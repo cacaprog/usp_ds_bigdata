{
 "cells": [
  {
   "cell_type": "code",
   "execution_count": 1,
   "metadata": {},
   "outputs": [],
   "source": [
    "# Pacotes que serão utilizados em todo o script\n",
    "import pandas as pd\n",
    "import mlflow\n",
    "import statsmodels.api as sm\n",
    "import json\n",
    "import requests\n",
    "import matplotlib.pyplot as plt"
   ]
  },
  {
   "cell_type": "code",
   "execution_count": 3,
   "metadata": {},
   "outputs": [],
   "source": [
    "# Coletando o caminho do dataset\n",
    "caminho = \"/home/cairo/code/usp_ds_bigdata/bd_deployment/datasets/tempodist.csv\"\n",
    "\n",
    "# Carregando o dataset\n",
    "df_tempodist = pd.read_csv(caminho)"
   ]
  },
  {
   "cell_type": "code",
   "execution_count": 5,
   "metadata": {},
   "outputs": [
    {
     "data": {
      "text/html": [
       "<div>\n",
       "<style scoped>\n",
       "    .dataframe tbody tr th:only-of-type {\n",
       "        vertical-align: middle;\n",
       "    }\n",
       "\n",
       "    .dataframe tbody tr th {\n",
       "        vertical-align: top;\n",
       "    }\n",
       "\n",
       "    .dataframe thead th {\n",
       "        text-align: right;\n",
       "    }\n",
       "</style>\n",
       "<table border=\"1\" class=\"dataframe\">\n",
       "  <thead>\n",
       "    <tr style=\"text-align: right;\">\n",
       "      <th></th>\n",
       "      <th>tempo</th>\n",
       "      <th>distancia</th>\n",
       "    </tr>\n",
       "  </thead>\n",
       "  <tbody>\n",
       "    <tr>\n",
       "      <th>0</th>\n",
       "      <td>15</td>\n",
       "      <td>8</td>\n",
       "    </tr>\n",
       "    <tr>\n",
       "      <th>1</th>\n",
       "      <td>20</td>\n",
       "      <td>6</td>\n",
       "    </tr>\n",
       "    <tr>\n",
       "      <th>2</th>\n",
       "      <td>20</td>\n",
       "      <td>15</td>\n",
       "    </tr>\n",
       "    <tr>\n",
       "      <th>3</th>\n",
       "      <td>40</td>\n",
       "      <td>20</td>\n",
       "    </tr>\n",
       "    <tr>\n",
       "      <th>4</th>\n",
       "      <td>50</td>\n",
       "      <td>25</td>\n",
       "    </tr>\n",
       "    <tr>\n",
       "      <th>5</th>\n",
       "      <td>25</td>\n",
       "      <td>11</td>\n",
       "    </tr>\n",
       "    <tr>\n",
       "      <th>6</th>\n",
       "      <td>10</td>\n",
       "      <td>5</td>\n",
       "    </tr>\n",
       "    <tr>\n",
       "      <th>7</th>\n",
       "      <td>55</td>\n",
       "      <td>32</td>\n",
       "    </tr>\n",
       "    <tr>\n",
       "      <th>8</th>\n",
       "      <td>35</td>\n",
       "      <td>28</td>\n",
       "    </tr>\n",
       "    <tr>\n",
       "      <th>9</th>\n",
       "      <td>30</td>\n",
       "      <td>20</td>\n",
       "    </tr>\n",
       "  </tbody>\n",
       "</table>\n",
       "</div>"
      ],
      "text/plain": [
       "   tempo  distancia\n",
       "0     15          8\n",
       "1     20          6\n",
       "2     20         15\n",
       "3     40         20\n",
       "4     50         25\n",
       "5     25         11\n",
       "6     10          5\n",
       "7     55         32\n",
       "8     35         28\n",
       "9     30         20"
      ]
     },
     "execution_count": 5,
     "metadata": {},
     "output_type": "execute_result"
    }
   ],
   "source": [
    "df_tempodist"
   ]
  },
  {
   "cell_type": "code",
   "execution_count": 6,
   "metadata": {},
   "outputs": [
    {
     "name": "stdout",
     "output_type": "stream",
     "text": [
      "<class 'pandas.core.frame.DataFrame'>\n",
      "RangeIndex: 10 entries, 0 to 9\n",
      "Data columns (total 2 columns):\n",
      " #   Column     Non-Null Count  Dtype\n",
      "---  ------     --------------  -----\n",
      " 0   tempo      10 non-null     int64\n",
      " 1   distancia  10 non-null     int64\n",
      "dtypes: int64(2)\n",
      "memory usage: 288.0 bytes\n"
     ]
    }
   ],
   "source": [
    "df_tempodist.info()"
   ]
  },
  {
   "cell_type": "code",
   "execution_count": 7,
   "metadata": {},
   "outputs": [
    {
     "data": {
      "text/html": [
       "<div>\n",
       "<style scoped>\n",
       "    .dataframe tbody tr th:only-of-type {\n",
       "        vertical-align: middle;\n",
       "    }\n",
       "\n",
       "    .dataframe tbody tr th {\n",
       "        vertical-align: top;\n",
       "    }\n",
       "\n",
       "    .dataframe thead th {\n",
       "        text-align: right;\n",
       "    }\n",
       "</style>\n",
       "<table border=\"1\" class=\"dataframe\">\n",
       "  <thead>\n",
       "    <tr style=\"text-align: right;\">\n",
       "      <th></th>\n",
       "      <th>tempo</th>\n",
       "      <th>distancia</th>\n",
       "    </tr>\n",
       "  </thead>\n",
       "  <tbody>\n",
       "    <tr>\n",
       "      <th>count</th>\n",
       "      <td>10.00000</td>\n",
       "      <td>10.000000</td>\n",
       "    </tr>\n",
       "    <tr>\n",
       "      <th>mean</th>\n",
       "      <td>30.00000</td>\n",
       "      <td>17.000000</td>\n",
       "    </tr>\n",
       "    <tr>\n",
       "      <th>std</th>\n",
       "      <td>14.90712</td>\n",
       "      <td>9.510228</td>\n",
       "    </tr>\n",
       "    <tr>\n",
       "      <th>min</th>\n",
       "      <td>10.00000</td>\n",
       "      <td>5.000000</td>\n",
       "    </tr>\n",
       "    <tr>\n",
       "      <th>25%</th>\n",
       "      <td>20.00000</td>\n",
       "      <td>8.750000</td>\n",
       "    </tr>\n",
       "    <tr>\n",
       "      <th>50%</th>\n",
       "      <td>27.50000</td>\n",
       "      <td>17.500000</td>\n",
       "    </tr>\n",
       "    <tr>\n",
       "      <th>75%</th>\n",
       "      <td>38.75000</td>\n",
       "      <td>23.750000</td>\n",
       "    </tr>\n",
       "    <tr>\n",
       "      <th>max</th>\n",
       "      <td>55.00000</td>\n",
       "      <td>32.000000</td>\n",
       "    </tr>\n",
       "  </tbody>\n",
       "</table>\n",
       "</div>"
      ],
      "text/plain": [
       "          tempo  distancia\n",
       "count  10.00000  10.000000\n",
       "mean   30.00000  17.000000\n",
       "std    14.90712   9.510228\n",
       "min    10.00000   5.000000\n",
       "25%    20.00000   8.750000\n",
       "50%    27.50000  17.500000\n",
       "75%    38.75000  23.750000\n",
       "max    55.00000  32.000000"
      ]
     },
     "execution_count": 7,
     "metadata": {},
     "output_type": "execute_result"
    }
   ],
   "source": [
    "df_tempodist.describe()"
   ]
  },
  {
   "cell_type": "markdown",
   "metadata": {},
   "source": [
    "### Treinando um modelo localmente"
   ]
  },
  {
   "cell_type": "code",
   "execution_count": 8,
   "metadata": {},
   "outputs": [],
   "source": [
    "modelo_nulo_local = sm.OLS.from_formula(\n",
    "    formula='tempo ~ distancia', \n",
    "    data=df_tempodist\n",
    ").fit()"
   ]
  },
  {
   "cell_type": "code",
   "execution_count": 9,
   "metadata": {},
   "outputs": [
    {
     "name": "stderr",
     "output_type": "stream",
     "text": [
      "/home/cairo/.local/share/virtualenvs/usp_ds_bigdata-ev0I9uRp/lib/python3.10/site-packages/scipy/stats/_axis_nan_policy.py:418: UserWarning: `kurtosistest` p-value may be inaccurate with fewer than 20 observations; only n=10 observations were given.\n",
      "  return hypotest_fun_in(*args, **kwds)\n"
     ]
    },
    {
     "data": {
      "text/html": [
       "<table class=\"simpletable\">\n",
       "<caption>OLS Regression Results</caption>\n",
       "<tr>\n",
       "  <th>Dep. Variable:</th>          <td>tempo</td>      <th>  R-squared:         </th> <td>   0.819</td>\n",
       "</tr>\n",
       "<tr>\n",
       "  <th>Model:</th>                   <td>OLS</td>       <th>  Adj. R-squared:    </th> <td>   0.797</td>\n",
       "</tr>\n",
       "<tr>\n",
       "  <th>Method:</th>             <td>Least Squares</td>  <th>  F-statistic:       </th> <td>   36.30</td>\n",
       "</tr>\n",
       "<tr>\n",
       "  <th>Date:</th>             <td>Fri, 04 Oct 2024</td> <th>  Prob (F-statistic):</th> <td>0.000314</td>\n",
       "</tr>\n",
       "<tr>\n",
       "  <th>Time:</th>                 <td>19:24:37</td>     <th>  Log-Likelihood:    </th> <td> -32.123</td>\n",
       "</tr>\n",
       "<tr>\n",
       "  <th>No. Observations:</th>      <td>    10</td>      <th>  AIC:               </th> <td>   68.25</td>\n",
       "</tr>\n",
       "<tr>\n",
       "  <th>Df Residuals:</th>          <td>     8</td>      <th>  BIC:               </th> <td>   68.85</td>\n",
       "</tr>\n",
       "<tr>\n",
       "  <th>Df Model:</th>              <td>     1</td>      <th>                     </th>     <td> </td>   \n",
       "</tr>\n",
       "<tr>\n",
       "  <th>Covariance Type:</th>      <td>nonrobust</td>    <th>                     </th>     <td> </td>   \n",
       "</tr>\n",
       "</table>\n",
       "<table class=\"simpletable\">\n",
       "<tr>\n",
       "      <td></td>         <th>coef</th>     <th>std err</th>      <th>t</th>      <th>P>|t|</th>  <th>[0.025</th>    <th>0.975]</th>  \n",
       "</tr>\n",
       "<tr>\n",
       "  <th>Intercept</th> <td>    5.8784</td> <td>    4.532</td> <td>    1.297</td> <td> 0.231</td> <td>   -4.573</td> <td>   16.330</td>\n",
       "</tr>\n",
       "<tr>\n",
       "  <th>distancia</th> <td>    1.4189</td> <td>    0.235</td> <td>    6.025</td> <td> 0.000</td> <td>    0.876</td> <td>    1.962</td>\n",
       "</tr>\n",
       "</table>\n",
       "<table class=\"simpletable\">\n",
       "<tr>\n",
       "  <th>Omnibus:</th>       <td> 1.016</td> <th>  Durbin-Watson:     </th> <td>   2.099</td>\n",
       "</tr>\n",
       "<tr>\n",
       "  <th>Prob(Omnibus):</th> <td> 0.602</td> <th>  Jarque-Bera (JB):  </th> <td>   0.694</td>\n",
       "</tr>\n",
       "<tr>\n",
       "  <th>Skew:</th>          <td>-0.262</td> <th>  Prob(JB):          </th> <td>   0.707</td>\n",
       "</tr>\n",
       "<tr>\n",
       "  <th>Kurtosis:</th>      <td> 1.820</td> <th>  Cond. No.          </th> <td>    41.1</td>\n",
       "</tr>\n",
       "</table><br/><br/>Notes:<br/>[1] Standard Errors assume that the covariance matrix of the errors is correctly specified."
      ],
      "text/latex": [
       "\\begin{center}\n",
       "\\begin{tabular}{lclc}\n",
       "\\toprule\n",
       "\\textbf{Dep. Variable:}    &      tempo       & \\textbf{  R-squared:         } &     0.819   \\\\\n",
       "\\textbf{Model:}            &       OLS        & \\textbf{  Adj. R-squared:    } &     0.797   \\\\\n",
       "\\textbf{Method:}           &  Least Squares   & \\textbf{  F-statistic:       } &     36.30   \\\\\n",
       "\\textbf{Date:}             & Fri, 04 Oct 2024 & \\textbf{  Prob (F-statistic):} &  0.000314   \\\\\n",
       "\\textbf{Time:}             &     19:24:37     & \\textbf{  Log-Likelihood:    } &   -32.123   \\\\\n",
       "\\textbf{No. Observations:} &          10      & \\textbf{  AIC:               } &     68.25   \\\\\n",
       "\\textbf{Df Residuals:}     &           8      & \\textbf{  BIC:               } &     68.85   \\\\\n",
       "\\textbf{Df Model:}         &           1      & \\textbf{                     } &             \\\\\n",
       "\\textbf{Covariance Type:}  &    nonrobust     & \\textbf{                     } &             \\\\\n",
       "\\bottomrule\n",
       "\\end{tabular}\n",
       "\\begin{tabular}{lcccccc}\n",
       "                   & \\textbf{coef} & \\textbf{std err} & \\textbf{t} & \\textbf{P$> |$t$|$} & \\textbf{[0.025} & \\textbf{0.975]}  \\\\\n",
       "\\midrule\n",
       "\\textbf{Intercept} &       5.8784  &        4.532     &     1.297  &         0.231        &       -4.573    &       16.330     \\\\\n",
       "\\textbf{distancia} &       1.4189  &        0.235     &     6.025  &         0.000        &        0.876    &        1.962     \\\\\n",
       "\\bottomrule\n",
       "\\end{tabular}\n",
       "\\begin{tabular}{lclc}\n",
       "\\textbf{Omnibus:}       &  1.016 & \\textbf{  Durbin-Watson:     } &    2.099  \\\\\n",
       "\\textbf{Prob(Omnibus):} &  0.602 & \\textbf{  Jarque-Bera (JB):  } &    0.694  \\\\\n",
       "\\textbf{Skew:}          & -0.262 & \\textbf{  Prob(JB):          } &    0.707  \\\\\n",
       "\\textbf{Kurtosis:}      &  1.820 & \\textbf{  Cond. No.          } &     41.1  \\\\\n",
       "\\bottomrule\n",
       "\\end{tabular}\n",
       "%\\caption{OLS Regression Results}\n",
       "\\end{center}\n",
       "\n",
       "Notes: \\newline\n",
       " [1] Standard Errors assume that the covariance matrix of the errors is correctly specified."
      ],
      "text/plain": [
       "<class 'statsmodels.iolib.summary.Summary'>\n",
       "\"\"\"\n",
       "                            OLS Regression Results                            \n",
       "==============================================================================\n",
       "Dep. Variable:                  tempo   R-squared:                       0.819\n",
       "Model:                            OLS   Adj. R-squared:                  0.797\n",
       "Method:                 Least Squares   F-statistic:                     36.30\n",
       "Date:                Fri, 04 Oct 2024   Prob (F-statistic):           0.000314\n",
       "Time:                        19:24:37   Log-Likelihood:                -32.123\n",
       "No. Observations:                  10   AIC:                             68.25\n",
       "Df Residuals:                       8   BIC:                             68.85\n",
       "Df Model:                           1                                         \n",
       "Covariance Type:            nonrobust                                         \n",
       "==============================================================================\n",
       "                 coef    std err          t      P>|t|      [0.025      0.975]\n",
       "------------------------------------------------------------------------------\n",
       "Intercept      5.8784      4.532      1.297      0.231      -4.573      16.330\n",
       "distancia      1.4189      0.235      6.025      0.000       0.876       1.962\n",
       "==============================================================================\n",
       "Omnibus:                        1.016   Durbin-Watson:                   2.099\n",
       "Prob(Omnibus):                  0.602   Jarque-Bera (JB):                0.694\n",
       "Skew:                          -0.262   Prob(JB):                        0.707\n",
       "Kurtosis:                       1.820   Cond. No.                         41.1\n",
       "==============================================================================\n",
       "\n",
       "Notes:\n",
       "[1] Standard Errors assume that the covariance matrix of the errors is correctly specified.\n",
       "\"\"\""
      ]
     },
     "execution_count": 9,
     "metadata": {},
     "output_type": "execute_result"
    }
   ],
   "source": [
    "modelo_nulo_local.summary()"
   ]
  },
  {
   "cell_type": "markdown",
   "metadata": {},
   "source": [
    "### Inicializando o MLFlow"
   ]
  },
  {
   "cell_type": "code",
   "execution_count": 10,
   "metadata": {},
   "outputs": [],
   "source": [
    "# Apontar a instância do mlflow para o servidor que está rodando a aplicação\n",
    "mlflow.set_tracking_uri('http://127.0.0.1:5000')"
   ]
  },
  {
   "cell_type": "code",
   "execution_count": 11,
   "metadata": {},
   "outputs": [
    {
     "name": "stderr",
     "output_type": "stream",
     "text": [
      "2024/10/04 19:42:13 INFO mlflow.tracking.fluent: Experiment with name 'Regressão Linear Simples - tempodist' does not exist. Creating a new experiment.\n"
     ]
    },
    {
     "data": {
      "text/plain": [
       "<Experiment: artifact_location='mlflow-artifacts:/463644338875980228', creation_time=1728081733754, experiment_id='463644338875980228', last_update_time=1728081733754, lifecycle_stage='active', name='Regressão Linear Simples - tempodist', tags={}>"
      ]
     },
     "execution_count": 11,
     "metadata": {},
     "output_type": "execute_result"
    }
   ],
   "source": [
    "# Criando o nosso primeiro experimento\n",
    "mlflow.set_experiment(experiment_name='Regressão Linear Simples - tempodist')"
   ]
  },
  {
   "cell_type": "markdown",
   "metadata": {},
   "source": [
    "### Definição dos Inputs do Modelo"
   ]
  },
  {
   "cell_type": "code",
   "execution_count": 12,
   "metadata": {},
   "outputs": [],
   "source": [
    "# Coleta dos metadados do dataset para o padrão do mlflow\n",
    "dataset = mlflow.data.from_pandas(df_tempodist)\n",
    "# Fórmula que serão utilizada no modelo\n",
    "formula = 'tempo ~ 1'"
   ]
  },
  {
   "cell_type": "code",
   "execution_count": 13,
   "metadata": {},
   "outputs": [
    {
     "name": "stderr",
     "output_type": "stream",
     "text": [
      "/home/cairo/.local/share/virtualenvs/usp_ds_bigdata-ev0I9uRp/lib/python3.10/site-packages/mlflow/types/utils.py:407: UserWarning: Hint: Inferred schema contains integer column(s). Integer columns in Python cannot represent missing values. If your input data contains missing values at inference time, it will be encoded as floats and will cause a schema enforcement error. The best way to avoid this problem is to infer the model schema based on a realistic data sample (training dataset) that includes missing values. Alternatively, you can declare integer columns as doubles (float64) whenever these columns may have missing values. See `Handling Integers With Missing Values <https://www.mlflow.org/docs/latest/models.html#handling-integers-with-missing-values>`_ for more details.\n",
      "  warnings.warn(\n",
      "/home/cairo/.local/share/virtualenvs/usp_ds_bigdata-ev0I9uRp/lib/python3.10/site-packages/scipy/stats/_axis_nan_policy.py:418: UserWarning: `kurtosistest` p-value may be inaccurate with fewer than 20 observations; only n=10 observations were given.\n",
      "  return hypotest_fun_in(*args, **kwds)\n",
      "2024/10/04 19:46:08 WARNING mlflow.models.model: Model logged without a signature and input example. Please set `input_example` parameter when logging the model to auto infer the model signature.\n",
      "2024/10/04 19:46:08 INFO mlflow.tracking._tracking_service.client: 🏃 View run Modelo Nulo at: http://127.0.0.1:5000/#/experiments/463644338875980228/runs/836ccebd60ab48ca85be3ccb2011caf8.\n",
      "2024/10/04 19:46:08 INFO mlflow.tracking._tracking_service.client: 🧪 View experiment at: http://127.0.0.1:5000/#/experiments/463644338875980228.\n"
     ]
    },
    {
     "data": {
      "image/png": "[encoded data removed]",
      "text/plain": [
       "<Figure size 640x480 with 1 Axes>"
      ]
     },
     "metadata": {},
     "output_type": "display_data"
    }
   ],
   "source": [
    "# Criando o nosso primeiro experimento no mlflow\n",
    "with mlflow.start_run(run_name=\"Modelo Nulo\"):\n",
    "\n",
    "    # ==================== INPUTS =============================================\n",
    "\n",
    "    # Coleta dos metadados do dataset. O contexto pode ser utilizado para adi-\n",
    "    # cionar mais uma informação de contexto do dataset, por exemplo: se ele é\n",
    "    # um dataset de treino ou teste\n",
    "    mlflow.log_input(dataset, context=\"training\")\n",
    "\n",
    "    # Parâmetros de entrada para serem coletados\n",
    "    mlflow.log_param(\"Fórmula\", formula)\n",
    "\n",
    "    # ==================== MODELAGEM ==========================================\n",
    "\n",
    "    # Treinamento do modelo\n",
    "    modelo_nulo = sm.OLS.from_formula(formula=formula, data=df_tempodist).fit()\n",
    "\n",
    "    # ==================== OUTPUTS ============================================\n",
    "\n",
    "    # Registrando as métricas do modelo\n",
    "    mlflow.log_metric(\"Estatística F\", modelo_nulo.fvalue)\n",
    "    mlflow.log_metric(\"F p-value\", modelo_nulo.f_pvalue)\n",
    "    mlflow.log_metric(\"R2\", modelo_nulo.rsquared)\n",
    "\n",
    "    # Coletando artefatos do modelo\n",
    "\n",
    "    # Gráfico do comparativo dos dados observados versus fittedvalues\n",
    "    fig, ax = plt.subplots()\n",
    "    ax.scatter(df_tempodist[\"tempo\"], modelo_nulo.fittedvalues)\n",
    "    ax.plot(ax.get_xlim(), ax.get_ylim(), ls=\"--\", color=\"gray\")\n",
    "\n",
    "    # Registro do gráfico como um artefato do experimento\n",
    "    mlflow.log_figure(\n",
    "        fig, \"observado_vs_fitted.png\"\n",
    "    )  # importante definir a extensão\n",
    "\n",
    "    # Obtendo o sumário do modelo em formato de texto\n",
    "    modelo_nulo_summary_texto = modelo_nulo.summary().as_text()\n",
    "\n",
    "    # Registro do sumário como um artefato do experimento\n",
    "    mlflow.log_text(\n",
    "        modelo_nulo_summary_texto, \"summary.txt\"\n",
    "    )  # importante definir a extensão do arquivo\n",
    "\n",
    "    # Carregamento do modelo no experimento\n",
    "    mlflow.statsmodels.log_model(modelo_nulo, \"modelo-nulo\")"
   ]
  },
  {
   "cell_type": "markdown",
   "metadata": {},
   "source": [
    "### Utilizando Modelos em Produção"
   ]
  },
  {
   "cell_type": "code",
   "execution_count": 14,
   "metadata": {},
   "outputs": [
    {
     "name": "stderr",
     "output_type": "stream",
     "text": [
      "/home/cairo/.local/share/virtualenvs/usp_ds_bigdata-ev0I9uRp/lib/python3.10/site-packages/mlflow/store/artifact/utils/models.py:31: FutureWarning: ``mlflow.tracking.client.MlflowClient.get_latest_versions`` is deprecated since 2.9.0. Model registry stages will be removed in a future major release. To learn more about the deprecation of model registry stages, see our migration guide here: https://mlflow.org/docs/latest/model-registry.html#migrating-from-stages\n",
      "  latest = client.get_latest_versions(name, None if stage is None else [stage])\n"
     ]
    }
   ],
   "source": [
    "modelo_nulo_carregado = mlflow.statsmodels.load_model(\n",
    "    'models:/tempo-distancia/staging'\n",
    ")"
   ]
  },
  {
   "cell_type": "code",
   "execution_count": 15,
   "metadata": {},
   "outputs": [
    {
     "data": {
      "text/plain": [
       "np.float64(0.0)"
      ]
     },
     "execution_count": 15,
     "metadata": {},
     "output_type": "execute_result"
    }
   ],
   "source": [
    "# Verificando o R2\n",
    "modelo_nulo_carregado.rsquared"
   ]
  },
  {
   "cell_type": "code",
   "execution_count": 16,
   "metadata": {},
   "outputs": [
    {
     "data": {
      "text/plain": [
       "0    30.0\n",
       "1    30.0\n",
       "2    30.0\n",
       "3    30.0\n",
       "4    30.0\n",
       "5    30.0\n",
       "6    30.0\n",
       "7    30.0\n",
       "8    30.0\n",
       "9    30.0\n",
       "dtype: float64"
      ]
     },
     "execution_count": 16,
     "metadata": {},
     "output_type": "execute_result"
    }
   ],
   "source": [
    "# Verificando os fittedvalues\n",
    "modelo_nulo_carregado.fittedvalues"
   ]
  },
  {
   "cell_type": "markdown",
   "metadata": {},
   "source": [
    "## Modelo final"
   ]
  },
  {
   "cell_type": "code",
   "execution_count": 17,
   "metadata": {},
   "outputs": [],
   "source": [
    "# Coleta dos metadados do dataset para o padrão do mlflow\n",
    "dataset = mlflow.data.from_pandas(df_tempodist)\n",
    "# Fórmula que serão utilizada no modelo\n",
    "formula = \"tempo ~ distancia\""
   ]
  },
  {
   "cell_type": "code",
   "execution_count": 18,
   "metadata": {},
   "outputs": [
    {
     "name": "stderr",
     "output_type": "stream",
     "text": [
      "/home/cairo/.local/share/virtualenvs/usp_ds_bigdata-ev0I9uRp/lib/python3.10/site-packages/mlflow/types/utils.py:407: UserWarning: Hint: Inferred schema contains integer column(s). Integer columns in Python cannot represent missing values. If your input data contains missing values at inference time, it will be encoded as floats and will cause a schema enforcement error. The best way to avoid this problem is to infer the model schema based on a realistic data sample (training dataset) that includes missing values. Alternatively, you can declare integer columns as doubles (float64) whenever these columns may have missing values. See `Handling Integers With Missing Values <https://www.mlflow.org/docs/latest/models.html#handling-integers-with-missing-values>`_ for more details.\n",
      "  warnings.warn(\n",
      "/home/cairo/.local/share/virtualenvs/usp_ds_bigdata-ev0I9uRp/lib/python3.10/site-packages/scipy/stats/_axis_nan_policy.py:418: UserWarning: `kurtosistest` p-value may be inaccurate with fewer than 20 observations; only n=10 observations were given.\n",
      "  return hypotest_fun_in(*args, **kwds)\n",
      "2024/10/04 20:03:33 WARNING mlflow.models.model: Model logged without a signature and input example. Please set `input_example` parameter when logging the model to auto infer the model signature.\n",
      "2024/10/04 20:03:33 INFO mlflow.tracking._tracking_service.client: 🏃 View run Modelo Final at: http://127.0.0.1:5000/#/experiments/463644338875980228/runs/e118fefaf03b47d6812ad89f0a7681af.\n",
      "2024/10/04 20:03:33 INFO mlflow.tracking._tracking_service.client: 🧪 View experiment at: http://127.0.0.1:5000/#/experiments/463644338875980228.\n"
     ]
    },
    {
     "data": {
      "image/png": "[encoded data removed]",
      "text/plain": [
       "<Figure size 640x480 with 1 Axes>"
      ]
     },
     "metadata": {},
     "output_type": "display_data"
    }
   ],
   "source": [
    "# Criando o nosso primeiro experimento no mlflow\n",
    "with mlflow.start_run(run_name=\"Modelo Final\"):\n",
    "\n",
    "    # =============================== INPUTS ==================================\n",
    "\n",
    "    # Coleta dos metadados do dataset. O contexto pode ser utilizado para adi-\n",
    "    # cionar mais uma informação de contexto do dataset, por exemplo: se ele é\n",
    "    # um dataset de treino ou teste\n",
    "    mlflow.log_input(dataset, context=\"training\")\n",
    "\n",
    "    # Parâmetros de entrada para serem coletados\n",
    "    mlflow.log_param(\"Fórmula\", formula)\n",
    "\n",
    "    # ============================= MODELAGEM =================================\n",
    "\n",
    "    # Treinamento do modelo\n",
    "    modelo_final = sm.OLS.from_formula(\n",
    "        formula=formula, data=df_tempodist\n",
    "    ).fit()\n",
    "\n",
    "    # ============================= OUTPUTS ===================================\n",
    "\n",
    "    # Registrando as métricas do modelo\n",
    "    mlflow.log_metric(\"Estatística F\", modelo_final.fvalue)\n",
    "    mlflow.log_metric(\"F p-value\", modelo_final.f_pvalue)\n",
    "    mlflow.log_metric(\"R2\", modelo_final.rsquared)\n",
    "\n",
    "    # Coletando artefatos do modelo\n",
    "\n",
    "    # Gráfico do comparativo dos dados observados versus fittedvalues\n",
    "    fig, ax = plt.subplots()\n",
    "    ax.scatter(df_tempodist[\"tempo\"], modelo_final.fittedvalues)\n",
    "    ax.plot(ax.get_xlim(), ax.get_ylim(), ls=\"--\", color=\"gray\")\n",
    "\n",
    "    # Registro do gráfico como um artefato do experimento\n",
    "    mlflow.log_figure(\n",
    "        fig, \"observado_vs_fitted.png\"\n",
    "    )  # importante definir a extensão\n",
    "\n",
    "    # Obtendo o sumário do modelo em formato de texto\n",
    "    modelo_final_summary_texto = modelo_final.summary().as_text()\n",
    "\n",
    "    # Registro do sumário como um artefato do experimento\n",
    "    mlflow.log_text(\n",
    "        modelo_nulo_summary_texto, \"summary.txt\"\n",
    "    )  # importante definir a extensão do arquivo\n",
    "\n",
    "    # Carregamento do modelo no experimento\n",
    "    mlflow.statsmodels.log_model(modelo_final, \"modelo-final\")"
   ]
  },
  {
   "cell_type": "markdown",
   "metadata": {},
   "source": [
    "- Registrando uma nova versão do modelo tempo-dist\n",
    "- Agora o modelo tempo-dist terá duas versões, o modelo nulo na versão 1 e o modelo final na versão 2.\n",
    "- Após promover o modelo final para a fase de 'staging', o modelo nulo automaticamente o modelo anterior será e o novo modelo ficará registrado no estágio de 'staging' (adaptação)\n"
   ]
  },
  {
   "cell_type": "code",
   "execution_count": 19,
   "metadata": {},
   "outputs": [
    {
     "name": "stderr",
     "output_type": "stream",
     "text": [
      "/home/cairo/.local/share/virtualenvs/usp_ds_bigdata-ev0I9uRp/lib/python3.10/site-packages/mlflow/store/artifact/utils/models.py:31: FutureWarning: ``mlflow.tracking.client.MlflowClient.get_latest_versions`` is deprecated since 2.9.0. Model registry stages will be removed in a future major release. To learn more about the deprecation of model registry stages, see our migration guide here: https://mlflow.org/docs/latest/model-registry.html#migrating-from-stages\n",
      "  latest = client.get_latest_versions(name, None if stage is None else [stage])\n"
     ]
    }
   ],
   "source": [
    "# Carregando novamente o modelo tempo-dist na fase 'staging'\n",
    "modelo_fase_staging = mlflow.statsmodels.load_model(\n",
    "    \"models:/tempo-distancia/staging\"\n",
    ")"
   ]
  },
  {
   "cell_type": "code",
   "execution_count": 20,
   "metadata": {},
   "outputs": [
    {
     "data": {
      "text/plain": [
       "np.float64(0.8194256756756757)"
      ]
     },
     "execution_count": 20,
     "metadata": {},
     "output_type": "execute_result"
    }
   ],
   "source": [
    "# Verificando o R2\n",
    "modelo_fase_staging.rsquared"
   ]
  },
  {
   "cell_type": "code",
   "execution_count": 21,
   "metadata": {},
   "outputs": [
    {
     "data": {
      "text/plain": [
       "0    17.229730\n",
       "1    14.391892\n",
       "2    27.162162\n",
       "3    34.256757\n",
       "4    41.351351\n",
       "5    21.486486\n",
       "6    12.972973\n",
       "7    51.283784\n",
       "8    45.608108\n",
       "9    34.256757\n",
       "dtype: float64"
      ]
     },
     "execution_count": 21,
     "metadata": {},
     "output_type": "execute_result"
    }
   ],
   "source": [
    "# Verificando os fittedvalues\n",
    "modelo_fase_staging.fittedvalues"
   ]
  },
  {
   "cell_type": "code",
   "execution_count": 23,
   "metadata": {},
   "outputs": [
    {
     "name": "stdout",
     "output_type": "stream",
     "text": [
      "0    34.256757\n",
      "dtype: float64\n"
     ]
    }
   ],
   "source": [
    "# Realizando um predict\n",
    "predict_novo_modelo_staging = modelo_fase_staging.predict(\n",
    "    pd.DataFrame({'distancia': [20]})\n",
    ")\n",
    "print(predict_novo_modelo_staging)\n"
   ]
  },
  {
   "cell_type": "markdown",
   "metadata": {},
   "source": [
    "### Gestão Ciclo de Vida dos Modelos"
   ]
  },
  {
   "cell_type": "markdown",
   "metadata": {},
   "source": [
    "- Ciclo esperado: Adatação -> Produção -> Arquivamento\n",
    "\n",
    "- Promovendo o modelo final de fase de adaptação para a fase de produção\n",
    "- Agora a versão 2 do modelo (modelo final) está em produção\n"
   ]
  },
  {
   "cell_type": "code",
   "execution_count": 24,
   "metadata": {},
   "outputs": [
    {
     "name": "stderr",
     "output_type": "stream",
     "text": [
      "/home/cairo/.local/share/virtualenvs/usp_ds_bigdata-ev0I9uRp/lib/python3.10/site-packages/mlflow/store/artifact/utils/models.py:31: FutureWarning: ``mlflow.tracking.client.MlflowClient.get_latest_versions`` is deprecated since 2.9.0. Model registry stages will be removed in a future major release. To learn more about the deprecation of model registry stages, see our migration guide here: https://mlflow.org/docs/latest/model-registry.html#migrating-from-stages\n",
      "  latest = client.get_latest_versions(name, None if stage is None else [stage])\n"
     ]
    }
   ],
   "source": [
    "# Carregando modelo tempo-dist em produção (production)\n",
    "modelo_em_producao = mlflow.statsmodels.load_model(\n",
    "    \"models:/tempo-distancia/production\"\n",
    ")"
   ]
  },
  {
   "cell_type": "markdown",
   "metadata": {},
   "source": [
    "### Consumindo APIs\n",
    "- Alguns métodos HTTP bastante utilizados em requisições de APIs:\n",
    "    - GET: recupera dados do servidor\n",
    "    - POST: envia dados ao servidor para processamento"
   ]
  },
  {
   "cell_type": "code",
   "execution_count": 25,
   "metadata": {},
   "outputs": [],
   "source": [
    "fatos_cachorros = requests.get(\n",
    "    \"https://dogapi.dog/api/v2/facts\",\n",
    "    headers={\"Content-Type\": \"application/json\"}\n",
    ")"
   ]
  },
  {
   "cell_type": "markdown",
   "metadata": {},
   "source": [
    "Documentação desta API aqui https://dogapi.dog/docs/api-v2"
   ]
  },
  {
   "cell_type": "code",
   "execution_count": 26,
   "metadata": {},
   "outputs": [],
   "source": [
    "# Coletando a resposta da requisição em formaton JSON\n",
    "fatos_cachorros = fatos_cachorros.json()"
   ]
  },
  {
   "cell_type": "code",
   "execution_count": 27,
   "metadata": {},
   "outputs": [
    {
     "name": "stdout",
     "output_type": "stream",
     "text": [
      "About 12 percent of the air that a dog breathes goes into a special area in the back of the nose that is dedicated to smelling.\n"
     ]
    }
   ],
   "source": [
    "# Acessando os campos e valores da resposta da API\n",
    "print(fatos_cachorros[\"data\"][0][\"attributes\"][\"body\"])"
   ]
  },
  {
   "cell_type": "markdown",
   "metadata": {},
   "source": [
    "### SERVINDO MODELOS EM PRODUÇÃO USANDO A API DO MLFLOW \n",
    "\n",
    "- Acesse um novo terminal e ative o ambiente virtual que foi criado. Não feche o terminal que está rodando o Mlflow.\n",
    "- Verifique o Passo 2 do \"Instruções Aula - Big Data e Deployment de Modelos\" para mais dúvidas.\n",
    "\n",
    "Adicione a variável de ambiente para o rastreamento de onde está o Mlflow\n",
    "- Linux/macOS: `EXPORT MLFLOW_TRACKING_URI=http://localhost:5000`\n",
    "- Windows: `SET MLFLOW_TRACKING_URI=http://localhost:5000`\n",
    "\n",
    "Sirva o modelo tempo-distancia em fase de produção para ser acessado na porta 5200 via API do Mlflow\n",
    "`mlflow models serve -m models:/tempo-distancia/production -p 5200 --no-conda`\n"
   ]
  },
  {
   "cell_type": "code",
   "execution_count": 28,
   "metadata": {},
   "outputs": [],
   "source": [
    "# Criando um dataframe para realizar um predict no nosso modelo em produção via\n",
    "# API do Mlflow\n",
    "df_novos_dados = pd.DataFrame({'distancia': [20]})"
   ]
  },
  {
   "cell_type": "code",
   "execution_count": 29,
   "metadata": {},
   "outputs": [],
   "source": [
    "# Transformando os dados para o formato requisitação pela documentação da API\n",
    "#  do mlflow\n",
    "dados_transformados = json.dumps(\n",
    "    {\"dataframe_records\": df_novos_dados.to_dict(orient=\"records\")}\n",
    ")"
   ]
  },
  {
   "cell_type": "code",
   "execution_count": 30,
   "metadata": {},
   "outputs": [],
   "source": [
    "# Realizando a requisição ao modelo via API do Mlflow e coletando a resposta\n",
    "response = requests.post(\n",
    "    url=\"http://127.0.0.1:5200/invocations\",\n",
    "    data = dados_transformados,\n",
    "    headers = {\"Content-Type\": \"application/json\"}\n",
    ")"
   ]
  },
  {
   "cell_type": "code",
   "execution_count": 31,
   "metadata": {},
   "outputs": [
    {
     "data": {
      "text/plain": [
       "'{\"predictions\": [{\"0\": 34.25675675675676}]}'"
      ]
     },
     "execution_count": 31,
     "metadata": {},
     "output_type": "execute_result"
    }
   ],
   "source": [
    "# Verificando o retorno\n",
    "response.text"
   ]
  },
  {
   "cell_type": "code",
   "execution_count": 33,
   "metadata": {},
   "outputs": [
    {
     "name": "stdout",
     "output_type": "stream",
     "text": [
      "34.25675675675676\n"
     ]
    }
   ],
   "source": [
    "# Verificando o retorno, agora no formato JSON\n",
    "predict = response.json()\n",
    "print(predict['predictions'][0]['0'])"
   ]
  },
  {
   "cell_type": "markdown",
   "metadata": {},
   "source": []
  }
 ],
 "metadata": {
  "kernelspec": {
   "display_name": "usp_ds_bigdata-ev0I9uRp",
   "language": "python",
   "name": "python3"
  },
  "language_info": {
   "codemirror_mode": {
    "name": "ipython",
    "version": 3
   },
   "file_extension": ".py",
   "mimetype": "text/x-python",
   "name": "python",
   "nbconvert_exporter": "python",
   "pygments_lexer": "ipython3",
   "version": "3.10.12"
  }
 },
 "nbformat": 4,
 "nbformat_minor": 2
}
